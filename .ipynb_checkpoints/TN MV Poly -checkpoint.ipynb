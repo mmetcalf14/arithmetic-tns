{
 "cells": [
  {
   "cell_type": "markdown",
   "id": "4c4590a5",
   "metadata": {},
   "source": [
    "## Tensor Contraction to Solve multivariate polynomials"
   ]
  },
  {
   "cell_type": "markdown",
   "id": "ae2d0b03",
   "metadata": {},
   "source": [
    "First going to solve the polynomial \n",
    "$$h(x,y,z) = f_1(x) + g_1(y) + l_1(z)$$\n",
    "\n",
    "This will take the form of a tensor contraction as such...I'll eventually right what all these indices are but for now refer to the paper.\n",
    "\n",
    "$$F_{x\\alpha}G_{y\\beta}\\oplus_{\\alpha\\beta\\gamma}L_{z\\alpha^\\prime}\\oplus_{\\gamma \\alpha^\\prime\\gamma^\\prime}$$\n",
    "$$= H_{xy\\gamma}L_{z\\alpha^\\prime}\\oplus_{\\gamma \\alpha^\\prime\\gamma^\\prime}$$\n",
    "$$= H_{xyz,\\gamma^\\prime}$$"
   ]
  },
  {
   "cell_type": "code",
   "execution_count": 1,
   "id": "b39f7e11",
   "metadata": {},
   "outputs": [],
   "source": [
    "import numpy as np"
   ]
  },
  {
   "cell_type": "code",
   "execution_count": 77,
   "id": "82aa5281",
   "metadata": {},
   "outputs": [],
   "source": [
    "def f(x):\n",
    "    return x*x\n",
    "\n",
    "def g(y):\n",
    "    return np.exp(-y)\n",
    "\n",
    "def l(z):\n",
    "    \n",
    "    return np.sin(z)"
   ]
  },
  {
   "cell_type": "code",
   "execution_count": 78,
   "id": "b6a09cf8",
   "metadata": {},
   "outputs": [
    {
     "name": "stdout",
     "output_type": "stream",
     "text": [
      "[0.03333333 0.13333333 0.13333333 0.13333333 0.13333333 0.13333333\n",
      " 0.13333333 0.13333333 0.13333333 0.13333333 0.13333333 0.13333333\n",
      " 0.13333333 0.13333333 0.13333333 0.13333333 0.13333333 0.13333333\n",
      " 0.13333333 0.13333333 0.13333333 0.13333333 0.13333333 0.13333333\n",
      " 0.13333333 0.13333333 0.13333333 0.13333333 0.13333333 0.13333333\n",
      " 0.13333333 0.03333333 0.03333333 0.03333333 0.03333333 0.03333333\n",
      " 0.03333333 0.03333333 0.03333333 0.03333333 0.03333333 0.03333333\n",
      " 0.03333333 0.03333333 0.03333333 0.03333333 0.03333333 0.03333333\n",
      " 0.03333333 0.03333333 0.03333333 0.03333333 0.03333333 0.03333333\n",
      " 0.03333333 0.03333333 0.03333333 0.03333333 0.03333333 0.03333333\n",
      " 0.03333333 0.03333333 0.03333333]\n",
      "[0.03333333 0.13333333 0.13333333 0.13333333 0.13333333 0.13333333\n",
      " 0.13333333 0.13333333 0.13333333 0.13333333 0.13333333 0.13333333\n",
      " 0.13333333 0.13333333 0.13333333 0.03333333 0.03333333 0.03333333\n",
      " 0.03333333 0.03333333 0.03333333 0.03333333 0.03333333 0.03333333\n",
      " 0.03333333 0.03333333 0.03333333 0.03333333 0.03333333 0.03333333]\n"
     ]
    }
   ],
   "source": [
    "dt = 0.1\n",
    "x = np.arange(0,3,dt)\n",
    "dx = dt*np.ones(len(x))\n",
    "dimx = int(len(dx)/2)\n",
    "dx[0] = (1/3)*dt\n",
    "dx[1:dimx] = (4/3)*dt\n",
    "dx[dimx:] = (1/3)*dt\n",
    "\n",
    "y = np.arange(-1,1,dt)\n",
    "dy = dt*np.ones(len(y))\n",
    "dimy = int(len(dy)/2)\n",
    "dy[0] = (1/3)*dt\n",
    "dy[1:dimy] = (4/3)*dt\n",
    "dy[dimy:] = (1/3)*dt\n",
    "\n",
    "z = np.arange(-1*np.pi, np.pi, dt)\n",
    "dz = dt*np.ones(len(z))\n",
    "dimz = int(len(dz)/2)\n",
    "dz[0] = (1/3)*dt\n",
    "dz[1:dimz] = (4/3)*dt\n",
    "dz[dimz:] = (1/3)*dt\n",
    "print(dz)\n",
    "print(dx)"
   ]
  },
  {
   "cell_type": "code",
   "execution_count": 79,
   "id": "81203f94",
   "metadata": {},
   "outputs": [],
   "source": [
    "F = np.ones((len(x), 2))\n",
    "F[:,0] = 1\n",
    "F[:,1] = [ f(x[i])*dx[i] for i in range(len(x))]\n",
    "\n",
    "G = np.ones((len(y), 2))\n",
    "G[:,0] = dt\n",
    "G[:,1] = [ g(y[i])*dy[i] for i in range(len(y))]\n",
    "\n",
    "L = np.ones((len(z), 2))\n",
    "L[:,0] = dt\n",
    "L[:,1] = [ l(z[i])*dz[i] for i in range(len(z))]"
   ]
  },
  {
   "cell_type": "code",
   "execution_count": 80,
   "id": "5ce98e87",
   "metadata": {},
   "outputs": [],
   "source": [
    "add = np.zeros((2,2,2))\n",
    "mult = np.zeros((2,2,2))\n",
    "ita = np.nditer(add, flags=['multi_index'])\n",
    "itb = np.nditer(mult, flags=['multi_index'])\n",
    "\n",
    "#### Tensor for addition\n",
    "for j in ita:\n",
    "    alpha = ita.multi_index[0]\n",
    "    beta = ita.multi_index[1]\n",
    "    gamma = ita.multi_index[2]\n",
    "    if  (alpha + beta) == gamma:\n",
    "        add[alpha,beta,gamma] = 1\n",
    "#### Tensor for multiplication\n",
    "for j in itb:\n",
    "    alpha = itb.multi_index[0]\n",
    "    beta = itb.multi_index[1]\n",
    "    gamma = itb.multi_index[2]\n",
    "    if alpha == beta == gamma:\n",
    "        mult[alpha,beta,gamma] =1"
   ]
  },
  {
   "cell_type": "code",
   "execution_count": 85,
   "id": "fbb73349",
   "metadata": {},
   "outputs": [
    {
     "name": "stdout",
     "output_type": "stream",
     "text": [
      "(157.40137676652841, 1.7475063259389901e-12)\n",
      "-0.003457904900128524\n"
     ]
    }
   ],
   "source": [
    "from scipy.integrate import trapezoid, simpson, quad, nquad\n",
    "\n",
    "func = lambda x,y,z: f(x) + g(y) + l(z)\n",
    "print(nquad(func,[[0,3],[-1,1],[-np.pi,np.pi]]))\n",
    "# print(quad(g,-1,1))\n",
    "print(simpson(l(z),dx=dt))\n",
    "# print(trapezoid(g(y),dx=dt))"
   ]
  },
  {
   "cell_type": "code",
   "execution_count": 86,
   "id": "d2c1a07f",
   "metadata": {},
   "outputs": [
    {
     "name": "stdout",
     "output_type": "stream",
     "text": [
      "[ 6.3        -1.99515674]\n"
     ]
    }
   ],
   "source": [
    "H1 = np.einsum('xa, yb, abg -> xyg',F,G,add)\n",
    "H2 = np.einsum('xya,zb, abg ->xyzg',H1,L,add)\n",
    "inth = np.einsum('xyza -> a',H2)\n",
    "print(np.einsum('xa->a', L))"
   ]
  },
  {
   "cell_type": "markdown",
   "id": "f4417dbb",
   "metadata": {},
   "source": [
    "## Now with a Tensor Network"
   ]
  },
  {
   "cell_type": "code",
   "execution_count": 8,
   "id": "ba3336e3",
   "metadata": {},
   "outputs": [
    {
     "name": "stderr",
     "output_type": "stream",
     "text": [
      "/Users/mekenametcalf/miniforge3/lib/python3.9/site-packages/cotengra/hyperoptimizers/hyper.py:57: UserWarning: Couldn't find `optuna`, `cmaes`, `baytune (btb)`, `chocolate`, or `nevergrad` so will use completely random sampling in place of hyper-optimization.\n",
      "  warnings.warn(\n",
      "/Users/mekenametcalf/miniforge3/lib/python3.9/site-packages/cotengra/hyperoptimizers/hyper.py:39: UserWarning: Couldn't import `kahypar` - skipping from default hyper optimizer and using basic `labels` method instead.\n",
      "  warnings.warn(\n",
      "/Users/mekenametcalf/miniforge3/lib/python3.9/site-packages/cotengra/hyperoptimizers/hyper.py:76: UserWarning: Couldn't find `optuna`, `cmaes`, `baytune (btb)`, `chocolate`, or `nevergrad` so will use completely random sampling in place of hyper-optimization.\n",
      "  warnings.warn(\n"
     ]
    }
   ],
   "source": [
    "import quimb as qu\n",
    "import quimb.tensor as qtn"
   ]
  },
  {
   "cell_type": "code",
   "execution_count": 9,
   "id": "77b589f6",
   "metadata": {},
   "outputs": [],
   "source": [
    "ftn = qtn.Tensor(F,inds=('x','a'),tags=('F'))\n",
    "gtn = qtn.Tensor(G,inds=('y','b'),tags=('G'))\n",
    "ltn = qtn.Tensor(L,inds=('z','ap'),tags=('L'))\n",
    "atn1 = qtn.Tensor(add,inds=('a','b','g'),tags=('S'))\n",
    "atn2 = qtn.Tensor(add,inds=('g','ap','gp'),tags=('S'))"
   ]
  },
  {
   "cell_type": "code",
   "execution_count": 10,
   "id": "93701ace",
   "metadata": {},
   "outputs": [],
   "source": [
    "# TN = ftn & gtn & ltn & atn1 & atn2\n",
    "TN = ftn & gtn & atn1"
   ]
  },
  {
   "cell_type": "code",
   "execution_count": 11,
   "id": "e06dfe0c",
   "metadata": {},
   "outputs": [
    {
     "data": {
      "image/png": "[encoded data removed]",
      "text/plain": [
       "<Figure size 600x600 with 1 Axes>"
      ]
     },
     "metadata": {
      "needs_background": "light"
     },
     "output_type": "display_data"
    }
   ],
   "source": [
    "TN.draw()"
   ]
  },
  {
   "cell_type": "code",
   "execution_count": 12,
   "id": "975053b5",
   "metadata": {},
   "outputs": [],
   "source": [
    "a = TN ^ ..."
   ]
  },
  {
   "cell_type": "code",
   "execution_count": 15,
   "id": "a59cee27",
   "metadata": {},
   "outputs": [
    {
     "data": {
      "image/png": "[encoded data removed]",
      "text/plain": [
       "<Figure size 600x600 with 1 Axes>"
      ]
     },
     "metadata": {
      "needs_background": "light"
     },
     "output_type": "display_data"
    }
   ],
   "source": [
    "a.draw()"
   ]
  },
  {
   "cell_type": "markdown",
   "id": "4f925131",
   "metadata": {},
   "source": [
    "## Multiplication"
   ]
  },
  {
   "cell_type": "markdown",
   "id": "1ba0ffc7",
   "metadata": {},
   "source": [
    "$$ h(x,y) = (f_1(x) + g_1(y))(f_2(x) + g_2(y))$$"
   ]
  },
  {
   "cell_type": "code",
   "execution_count": 16,
   "id": "3251d3a6",
   "metadata": {},
   "outputs": [],
   "source": [
    "def f1(x):\n",
    "    \n",
    "    return x*x\n",
    "\n",
    "def g1(y):\n",
    "    \n",
    "    return np.exp(-y)\n",
    "\n",
    "def f2(x):\n",
    "    \n",
    "    return np.sin(x)\n",
    "\n",
    "def g2(y):\n",
    "    \n",
    "    return np.cos(y)"
   ]
  },
  {
   "cell_type": "code",
   "execution_count": 19,
   "id": "52940e77",
   "metadata": {},
   "outputs": [],
   "source": [
    "dt = 0.1\n",
    "\n",
    "x = np.arange(0,3,dt)\n",
    "dx = dt*np.ones(len(x))\n",
    "dx[0] = 0.5*dx[0]\n",
    "dx[-1] = 0.5*dx[-1]\n",
    "\n",
    "y = np.arange(-1*np.pi,np.pi,dt)\n",
    "dy = dt*np.ones(len(y))\n",
    "dy[0] = 0.5*dy[0]\n",
    "dy[-1] = 0.5*dy[-1]"
   ]
  },
  {
   "cell_type": "code",
   "execution_count": 50,
   "id": "c487d65a",
   "metadata": {},
   "outputs": [],
   "source": [
    "F1 = np.ones((len(x), 2))\n",
    "F1[:,0] = dt\n",
    "F1[:,1] = [ f1(x[i])*dx[i] for i in range(len(x))]\n",
    "\n",
    "G1 = np.ones((len(y), 2))\n",
    "G1[:,0] = 1\n",
    "G1[:,1] = [ g1(y[i])*dy[i] for i in range(len(y))]\n",
    "\n",
    "F2 = np.ones((len(x), 2))\n",
    "F2[:,0] = dt\n",
    "F2[:,1] = [ f2(x[i])*dx[i] for i in range(len(x))]\n",
    "\n",
    "G2 = np.ones((len(y), 2))\n",
    "G2[:,0] = 1\n",
    "G2[:,1] = [ g2(y[i])*dy[i] for i in range(len(y))]"
   ]
  },
  {
   "cell_type": "code",
   "execution_count": 53,
   "id": "de7f6243",
   "metadata": {},
   "outputs": [
    {
     "name": "stdout",
     "output_type": "stream",
     "text": [
      "(47.61346377529255, 8.302388818041076e-13)\n"
     ]
    }
   ],
   "source": [
    "func = lambda x,y: (f2(x) + g2(y)) *(f1(x) + g1(y))\n",
    "print(nquad(func,[[0,3],[-np.pi,np.pi]]))"
   ]
  },
  {
   "cell_type": "code",
   "execution_count": 52,
   "id": "c1f10ba4",
   "metadata": {},
   "outputs": [
    {
     "name": "stdout",
     "output_type": "stream",
     "text": [
      "[18.9        39.28956121]\n"
     ]
    }
   ],
   "source": [
    "H1 = np.einsum('xa, yb, abg -> xyg',F1,G1,add)\n",
    "H2 = np.einsum('xa,yb, abg ->xyg',F2,G2,add)\n",
    "H3 = np.einsum('xya, xyb, abg -> xyg',H1, H2, mult)\n",
    "inth = np.einsum('xya -> a',H3)\n",
    "print(inth)"
   ]
  },
  {
   "cell_type": "code",
   "execution_count": 29,
   "id": "c2ad83f7",
   "metadata": {},
   "outputs": [],
   "source": [
    "f1tn = qtn.Tensor(F1,inds=('x','a'),tags=('F1'))\n",
    "g1tn = qtn.Tensor(G1,inds=('y','b'),tags=('G1'))\n",
    "f2tn = qtn.Tensor(F2,inds=('xp','ap'),tags=('F1'))\n",
    "g2tn = qtn.Tensor(G2,inds=('yp','bp'),tags=('G1'))\n",
    "\n",
    "atn1 = qtn.Tensor(add,inds=('a','b','g'),tags=('S1'))\n",
    "atn2 = qtn.Tensor(add,inds=('ap','bp','gp'),tags=('S2'))\n",
    "mtn = qtn.Tensor(mult,inds=('g','gp','u'),tags=('M'))"
   ]
  },
  {
   "cell_type": "code",
   "execution_count": 44,
   "id": "754fb3da",
   "metadata": {},
   "outputs": [],
   "source": [
    "TN1 = f1tn & g1tn & atn1 \n",
    "TN2 = f2tn & g2tn & atn2\n",
    "TN3 = TN1 & TN2 & mtn"
   ]
  },
  {
   "cell_type": "code",
   "execution_count": 45,
   "id": "8db7c4a4",
   "metadata": {},
   "outputs": [
    {
     "data": {
      "image/png": "[encoded data removed]",
      "text/plain": [
       "<Figure size 600x600 with 1 Axes>"
      ]
     },
     "metadata": {
      "needs_background": "light"
     },
     "output_type": "display_data"
    }
   ],
   "source": [
    "TN3.draw()"
   ]
  },
  {
   "cell_type": "code",
   "execution_count": 47,
   "id": "7c696c44",
   "metadata": {},
   "outputs": [],
   "source": [
    "out = TN3 ^ ..."
   ]
  },
  {
   "cell_type": "code",
   "execution_count": 48,
   "id": "173bb769",
   "metadata": {},
   "outputs": [
    {
     "data": {
      "image/png": "[encoded data removed]",
      "text/plain": [
       "<Figure size 600x600 with 1 Axes>"
      ]
     },
     "metadata": {
      "needs_background": "light"
     },
     "output_type": "display_data"
    }
   ],
   "source": [
    "out.draw()"
   ]
  },
  {
   "cell_type": "code",
   "execution_count": null,
   "id": "d9179356",
   "metadata": {},
   "outputs": [],
   "source": []
  }
 ],
 "metadata": {
  "kernelspec": {
   "display_name": "Python 3 (ipykernel)",
   "language": "python",
   "name": "python3"
  },
  "language_info": {
   "codemirror_mode": {
    "name": "ipython",
    "version": 3
   },
   "file_extension": ".py",
   "mimetype": "text/x-python",
   "name": "python",
   "nbconvert_exporter": "python",
   "pygments_lexer": "ipython3",
   "version": "3.9.13"
  }
 },
 "nbformat": 4,
 "nbformat_minor": 5
}
