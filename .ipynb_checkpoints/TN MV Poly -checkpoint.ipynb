{
 "cells": [
  {
   "cell_type": "markdown",
   "id": "2b53c2ae",
   "metadata": {},
   "source": [
    "## Tensor Contraction to Solve multivariate polynomials"
   ]
  },
  {
   "cell_type": "markdown",
   "id": "d13eb469",
   "metadata": {},
   "source": [
    "First going to solve the polynomial \n",
    "$$h(x,y,z) = f_1(x) + g_1(y) + l_1(z)$$\n",
    "\n",
    "This will take the form of a tensor contraction as such...I'll eventually right what all these indices are but for now refer to the paper.\n",
    "\n",
    "$$F_{x\\alpha}G_{y\\beta}\\oplus_{\\alpha\\beta\\gamma}L_{z\\alpha^\\prime}\\oplus_{\\gamma \\alpha^\\prime\\gamma^\\prime}$$\n",
    "$$= H_{xy\\gamma}L_{z\\alpha^\\prime}\\oplus_{\\gamma \\alpha^\\prime\\gamma^\\prime}$$\n",
    "$$= H_{xyz,\\gamma^\\prime}$$"
   ]
  },
  {
   "cell_type": "code",
   "execution_count": 1,
   "id": "6357e732",
   "metadata": {},
   "outputs": [],
   "source": [
    "import numpy as np"
   ]
  },
  {
   "cell_type": "code",
   "execution_count": 7,
   "id": "8c5a114b",
   "metadata": {},
   "outputs": [],
   "source": [
    "def f(x):\n",
    "    return x*x\n",
    "\n",
    "def g(y):\n",
    "    return np.exp(-y)\n",
    "\n",
    "def l(z):\n",
    "    \n",
    "    return np.sin(z)"
   ]
  },
  {
   "cell_type": "code",
   "execution_count": 8,
   "id": "a2049c3b",
   "metadata": {},
   "outputs": [],
   "source": [
    "dt = 0.01\n",
    "x = np.arange(0,3,dt)\n",
    "dx = dt*np.ones(len(x))\n",
    "dx[0] = 0.5*dt\n",
    "dx[-1] = 0.5*dt\n",
    "\n",
    "y = np.arange(-1,1,dt)\n",
    "dy = dt*np.ones(len(y))\n",
    "dimy = int(len(dy)/2)\n",
    "dy[0] = 0.5*dt\n",
    "dy[-1] = 0.5*dt\n",
    "\n",
    "z = np.arange(-1*np.pi, np.pi, dt)\n",
    "dz = dt*np.ones(len(z))\n",
    "dz[0] = 0.5*dt\n",
    "dz[-1] = 0.5*dt"
   ]
  },
  {
   "cell_type": "code",
   "execution_count": 9,
   "id": "dfa9384c",
   "metadata": {},
   "outputs": [
    {
     "name": "stdout",
     "output_type": "stream",
     "text": [
      "(629, 2)\n",
      "[0.01 0.01 0.01 0.01 0.01 0.01 0.01 0.01 0.01 0.01]\n"
     ]
    }
   ],
   "source": [
    "F = np.ones((len(x), 2))\n",
    "F[:,0] = dt\n",
    "F[:,1] = [ f(x[i])*dx[i] for i in range(len(x))]\n",
    "\n",
    "G = np.ones((len(y), 2))\n",
    "G[:,0] = dt\n",
    "G[:,1] = [ g(y[i])*dy[i] for i in range(len(y))]\n",
    "\n",
    "L = np.ones((len(z), 2))\n",
    "L[:,0] = dt\n",
    "L[:,1] = [ l(z[i])*dz[i] for i in range(len(z))]\n",
    "print(np.shape(L))\n",
    "print(L[0:10,0])"
   ]
  },
  {
   "cell_type": "code",
   "execution_count": 10,
   "id": "5a8167ae",
   "metadata": {},
   "outputs": [],
   "source": [
    "add = np.zeros((2,2,2))\n",
    "mult = np.zeros((2,2,2))\n",
    "ita = np.nditer(add, flags=['multi_index'])\n",
    "itb = np.nditer(mult, flags=['multi_index'])\n",
    "\n",
    "#### Tensor for addition\n",
    "for j in ita:\n",
    "    alpha = ita.multi_index[0]\n",
    "    beta = ita.multi_index[1]\n",
    "    gamma = ita.multi_index[2]\n",
    "    if  (alpha + beta) == gamma:\n",
    "        add[alpha,beta,gamma] = 1\n",
    "#### Tensor for multiplication\n",
    "for j in itb:\n",
    "    alpha = itb.multi_index[0]\n",
    "    beta = itb.multi_index[1]\n",
    "    gamma = itb.multi_index[2]\n",
    "    if alpha == beta == gamma:\n",
    "        mult[alpha,beta,gamma] =1"
   ]
  },
  {
   "cell_type": "code",
   "execution_count": 11,
   "id": "25961a4f",
   "metadata": {},
   "outputs": [
    {
     "name": "stdout",
     "output_type": "stream",
     "text": [
      "(157.40137676652841, 1.7475063259389901e-12)\n",
      "(2.350402387287603, 2.6094708475006315e-14)\n",
      "2.3467246932805503\n"
     ]
    }
   ],
   "source": [
    "from scipy.integrate import trapezoid, simpson, quad, nquad\n",
    "\n",
    "func = lambda x,y,z: f(x) + g(y) + l(z)\n",
    "print(nquad(func,[[0,3],[-1,1],[-np.pi,np.pi]]))\n",
    "print(quad(g,-1,1))\n",
    "print(trapezoid(g(y),dx=dt))"
   ]
  },
  {
   "cell_type": "code",
   "execution_count": 103,
   "id": "d984379c",
   "metadata": {},
   "outputs": [
    {
     "name": "stdout",
     "output_type": "stream",
     "text": [
      "[ 37.74       156.37486123]\n"
     ]
    }
   ],
   "source": [
    "H1 = np.einsum('xa, yb, abg -> xyg',F,G,add)\n",
    "H2 = np.einsum('xya,zb, abg ->xyzg',H1,L,add)\n",
    "inth = np.einsum('xyza -> a',H2)\n",
    "print(inth)"
   ]
  },
  {
   "cell_type": "markdown",
   "id": "5536217c",
   "metadata": {},
   "source": [
    "## Now with a Tensor Network"
   ]
  },
  {
   "cell_type": "code",
   "execution_count": 2,
   "id": "4daf6034",
   "metadata": {},
   "outputs": [
    {
     "name": "stderr",
     "output_type": "stream",
     "text": [
      "/Users/mekenametcalf/miniforge3/lib/python3.9/site-packages/cotengra/hyperoptimizers/hyper.py:57: UserWarning: Couldn't find `optuna`, `cmaes`, `baytune (btb)`, `chocolate`, or `nevergrad` so will use completely random sampling in place of hyper-optimization.\n",
      "  warnings.warn(\n",
      "/Users/mekenametcalf/miniforge3/lib/python3.9/site-packages/cotengra/hyperoptimizers/hyper.py:39: UserWarning: Couldn't import `kahypar` - skipping from default hyper optimizer and using basic `labels` method instead.\n",
      "  warnings.warn(\n",
      "/Users/mekenametcalf/miniforge3/lib/python3.9/site-packages/cotengra/hyperoptimizers/hyper.py:76: UserWarning: Couldn't find `optuna`, `cmaes`, `baytune (btb)`, `chocolate`, or `nevergrad` so will use completely random sampling in place of hyper-optimization.\n",
      "  warnings.warn(\n"
     ]
    }
   ],
   "source": [
    "import quimb as qu\n",
    "import quimb.tensor as qtn"
   ]
  },
  {
   "cell_type": "code",
   "execution_count": 23,
   "id": "ceecdad2",
   "metadata": {},
   "outputs": [],
   "source": [
    "ftn = qtn.Tensor(F,inds=('x','a'),tags=('F'))\n",
    "gtn = qtn.Tensor(G,inds=('y','b'),tags=('G'))\n",
    "ltn = qtn.Tensor(L,inds=('z','ap'),tags=('L'))\n",
    "atn1 = qtn.Tensor(add,inds=('a','b','g'),tags=('S'))\n",
    "atn2 = qtn.Tensor(add,inds=('g','ap','gp'),tags=('S'))"
   ]
  },
  {
   "cell_type": "code",
   "execution_count": 24,
   "id": "d4e71eee",
   "metadata": {},
   "outputs": [],
   "source": [
    "TN = ftn & gtn & ltn & atn1 & atn2\n",
    "# TN = ftn & gtn & atn1"
   ]
  },
  {
   "cell_type": "code",
   "execution_count": 25,
   "id": "8eea4169",
   "metadata": {},
   "outputs": [
    {
     "data": {
      "image/png": "[encoded data removed]",
      "text/plain": [
       "<Figure size 600x600 with 1 Axes>"
      ]
     },
     "metadata": {
      "needs_background": "light"
     },
     "output_type": "display_data"
    }
   ],
   "source": [
    "TN.draw()"
   ]
  },
  {
   "cell_type": "code",
   "execution_count": 26,
   "id": "4bf1a152",
   "metadata": {},
   "outputs": [],
   "source": [
    "a = TN ^ ..."
   ]
  },
  {
   "cell_type": "code",
   "execution_count": 28,
   "id": "05c0526c",
   "metadata": {},
   "outputs": [
    {
     "name": "stdout",
     "output_type": "stream",
     "text": [
      "[ 37.74       156.37486123]\n"
     ]
    }
   ],
   "source": [
    "data = a.data\n",
    "print(np.einsum('xyza -> a',data))"
   ]
  },
  {
   "cell_type": "markdown",
   "id": "d9e59ccd",
   "metadata": {},
   "source": [
    "## Multiplication"
   ]
  },
  {
   "cell_type": "markdown",
   "id": "3de267b0",
   "metadata": {},
   "source": [
    "$$ h(x,y) = (f_1(x) + g_1(y))(f_2(x) + g_2(y))$$\n",
    "\n",
    "We can break this apart to define the tensor network\n"
   ]
  },
  {
   "cell_type": "code",
   "execution_count": 3,
   "id": "246c990f",
   "metadata": {},
   "outputs": [],
   "source": [
    "def f1(x):\n",
    "    \n",
    "    return x**2 # *x\n",
    "\n",
    "def g1(y):\n",
    "    \n",
    "    return y #np.exp(-y)\n",
    "\n",
    "def f2(x):\n",
    "    \n",
    "    return np.sin(x)\n",
    "\n",
    "def g2(y):\n",
    "    \n",
    "    return np.cos(y)"
   ]
  },
  {
   "cell_type": "code",
   "execution_count": 4,
   "id": "5c461adb",
   "metadata": {},
   "outputs": [],
   "source": [
    "dt = 0.01\n",
    "\n",
    "x = np.arange(0,3,dt)\n",
    "dx = dt*np.ones(len(x))\n",
    "dx[0] = 0.5*dx[0]\n",
    "dx[-1] = 0.5*dx[-1]\n",
    "\n",
    "y = np.arange(-1*np.pi,np.pi,dt)\n",
    "dy = dt*np.ones(len(y))\n",
    "dy[0] = 0.5*dy[0]\n",
    "dy[-1] = 0.5*dy[-1]"
   ]
  },
  {
   "cell_type": "code",
   "execution_count": 5,
   "id": "bfb5c844",
   "metadata": {},
   "outputs": [],
   "source": [
    "F1 = np.ones((len(x), 2))\n",
    "F1[:,0] = dt\n",
    "F1[:,1] = [ f1(x[i])*dx[i] for i in range(len(x))]\n",
    "\n",
    "G1 = np.ones((len(y), 2))\n",
    "G1[:,0] = 1\n",
    "G1[:,1] = [ g1(y[i])*dy[i] for i in range(len(y))]\n",
    "\n",
    "F2 = np.ones((len(x), 2))\n",
    "F2[:,0] = dt\n",
    "F2[:,1] = [ f2(x[i])*dx[i] for i in range(len(x))]\n",
    "\n",
    "G2 = np.ones((len(y), 2))\n",
    "G2[:,0] = 1\n",
    "G2[:,1] = [ g2(y[i])*dy[i] for i in range(len(y))]"
   ]
  },
  {
   "cell_type": "code",
   "execution_count": 161,
   "id": "a15c5df4",
   "metadata": {},
   "outputs": [
    {
     "name": "stdout",
     "output_type": "stream",
     "text": [
      "(36.29587251479145, 4.863437186678866e-13)\n"
     ]
    }
   ],
   "source": [
    "func = lambda x,y: (f2(x) + g2(y)) *(f1(x) + g1(y))\n",
    "print(nquad(func,[[0,3],[-np.pi,np.pi]]))"
   ]
  },
  {
   "cell_type": "code",
   "execution_count": 12,
   "id": "c7470489",
   "metadata": {},
   "outputs": [
    {
     "name": "stdout",
     "output_type": "stream",
     "text": [
      "(300, 629, 2)\n",
      "[18.87      36.2312705]\n"
     ]
    }
   ],
   "source": [
    "H1 = np.einsum('xa, yb, abg -> xyg',F1,G1,add)\n",
    "H2 = np.einsum('xa,yb, abg ->xyg',F2,G2,add)\n",
    "H3 = np.einsum('xya, xyb, abg -> xyg',H1, H2, mult)\n",
    "print(np.shape(H3))\n",
    "inth = np.einsum('xya -> a',H3)\n",
    "print(inth)"
   ]
  },
  {
   "cell_type": "code",
   "execution_count": 13,
   "id": "8c2ca7ea",
   "metadata": {},
   "outputs": [],
   "source": [
    "f1tn = qtn.Tensor(F1,inds=('x','a'),tags=('F1'))\n",
    "g1tn = qtn.Tensor(G1,inds=('y','b'),tags=('G1'))\n",
    "f2tn = qtn.Tensor(F2,inds=('x','ap'),tags=('F1'))\n",
    "g2tn = qtn.Tensor(G2,inds=('y','bp'),tags=('G1'))\n",
    "\n",
    "atn1 = qtn.Tensor(add,inds=('a','b','g'),tags=('S1'))\n",
    "atn2 = qtn.Tensor(add,inds=('ap','bp','gp'),tags=('S2'))\n",
    "mtn = qtn.Tensor(mult,inds=('g','gp','u'),tags=('M'))"
   ]
  },
  {
   "cell_type": "code",
   "execution_count": 14,
   "id": "2e03bae6",
   "metadata": {},
   "outputs": [],
   "source": [
    "TN1 = f1tn & g1tn & atn1 & f2tn & g2tn & atn2  & mtn\n"
   ]
  },
  {
   "cell_type": "code",
   "execution_count": 16,
   "id": "fb2a1553",
   "metadata": {},
   "outputs": [
    {
     "data": {
      "image/png": "[encoded data removed]",
      "text/plain": [
       "<Figure size 600x600 with 1 Axes>"
      ]
     },
     "metadata": {
      "needs_background": "light"
     },
     "output_type": "display_data"
    }
   ],
   "source": [
    "TN1.draw()"
   ]
  },
  {
   "cell_type": "code",
   "execution_count": 21,
   "id": "0b9a62f6",
   "metadata": {},
   "outputs": [
    {
     "name": "stdout",
     "output_type": "stream",
     "text": [
      "[18.87      36.2312705]\n"
     ]
    }
   ],
   "source": [
    "out = TN1 ^ ...\n",
    "print(out.data)"
   ]
  },
  {
   "cell_type": "code",
   "execution_count": 19,
   "id": "6ad3a6ff",
   "metadata": {},
   "outputs": [
    {
     "data": {
      "image/png": "[encoded data removed]",
      "text/plain": [
       "<Figure size 600x600 with 1 Axes>"
      ]
     },
     "metadata": {
      "needs_background": "light"
     },
     "output_type": "display_data"
    }
   ],
   "source": [
    "out.draw()"
   ]
  },
  {
   "cell_type": "markdown",
   "id": "6d0ffbea",
   "metadata": {},
   "source": [
    "## Testing Quimb issues"
   ]
  },
  {
   "cell_type": "code",
   "execution_count": 144,
   "id": "59dd7434",
   "metadata": {},
   "outputs": [
    {
     "data": {
      "text/html": [
       "<samp style='font-size: 12px;'><details><summary><b style=\"color: #e55471;\">Tensor</b>(shape=(<b style=\"color: #828fdd;\">2</b>, <b style=\"color: #828fdd;\">2</b>), inds=[<b style=\"color: #b1dc61;\">k0</b>, <b style=\"color: #8aa5db;\">k1</b>], tags={<b style=\"color: #e4c44b;\">KET</b>}),</summary>backend=<b style=\"color: #7fdd73;\">numpy</b>, dtype=<b style=\"color: #443ce1;\">complex128</b>, data=array([[ 0.        +0.j,  0.70710678+0.j],\n",
       "       [-0.70710678+0.j,  0.        +0.j]])</details></samp>"
      ],
      "text/plain": [
       "Tensor(shape=(2, 2), inds=('k0', 'k1'), tags=oset(['KET']))"
      ]
     },
     "execution_count": 144,
     "metadata": {},
     "output_type": "execute_result"
    }
   ],
   "source": [
    "data = qu.bell_state('psi-').reshape(2, 2)\n",
    "inds = ('k0', 'k1')\n",
    "tags = ('KET',)\n",
    "\n",
    "ket = qtn.Tensor(data=data, inds=inds, tags=tags)\n",
    "ket"
   ]
  },
  {
   "cell_type": "code",
   "execution_count": 145,
   "id": "8c0183b9",
   "metadata": {},
   "outputs": [
    {
     "data": {
      "image/png": "[encoded data removed]",
      "text/plain": [
       "<Figure size 600x600 with 1 Axes>"
      ]
     },
     "metadata": {
      "needs_background": "light"
     },
     "output_type": "display_data"
    }
   ],
   "source": [
    "ket.draw()\n",
    "\n"
   ]
  },
  {
   "cell_type": "code",
   "execution_count": 146,
   "id": "71f8bbca",
   "metadata": {},
   "outputs": [],
   "source": [
    "X = qtn.Tensor(qu.pauli('X'), inds=('k0', 'b0'), tags=['PAULI', 'X', '0'])\n",
    "Y = qtn.Tensor(qu.pauli('Y'), inds=('k1', 'b1'), tags=['PAULI', 'Y', '1'])"
   ]
  },
  {
   "cell_type": "code",
   "execution_count": 147,
   "id": "87fce6eb",
   "metadata": {},
   "outputs": [],
   "source": [
    "bra = qtn.Tensor(qu.rand_ket(4).reshape(2, 2), inds=('b0', 'b1'), tags=['BRA'])"
   ]
  },
  {
   "cell_type": "code",
   "execution_count": 150,
   "id": "38f7df26",
   "metadata": {},
   "outputs": [
    {
     "data": {
      "image/png": "[encoded data removed]",
      "text/plain": [
       "<Figure size 600x600 with 1 Axes>"
      ]
     },
     "metadata": {
      "needs_background": "light"
     },
     "output_type": "display_data"
    }
   ],
   "source": [
    "TN = ket.H & X & Y #& bra\n",
    "TN.draw()"
   ]
  },
  {
   "cell_type": "code",
   "execution_count": 151,
   "id": "93c06cf9",
   "metadata": {},
   "outputs": [
    {
     "data": {
      "text/html": [
       "<samp style='font-size: 12px;'><details><summary><b style=\"color: #e55471;\">Tensor</b>(shape=(<b style=\"color: #828fdd;\">2</b>, <b style=\"color: #828fdd;\">2</b>), inds=[<b style=\"color: #e06fe0;\">b0</b>, <b style=\"color: #c757cc;\">b1</b>], tags={<b style=\"color: #e4c44b;\">KET</b>, <b style=\"color: #e3a448;\">PAULI</b>, <b style=\"color: #6bd453;\">X</b>, <b style=\"color: #74d649;\">0</b>, <b style=\"color: #e3a635;\">Y</b>, <b style=\"color: #45ce3d;\">1</b>}),</summary>backend=<b style=\"color: #7fdd73;\">numpy</b>, dtype=<b style=\"color: #443ce1;\">complex128</b>, data=array([[0.+0.j        , 0.+0.70710678j],\n",
       "       [0.+0.70710678j, 0.+0.j        ]])</details></samp>"
      ],
      "text/plain": [
       "Tensor(shape=(2, 2), inds=('b0', 'b1'), tags=oset(['KET', 'PAULI', 'X', '0', 'Y', '1']))"
      ]
     },
     "execution_count": 151,
     "metadata": {},
     "output_type": "execute_result"
    }
   ],
   "source": [
    "TN ^ ..."
   ]
  },
  {
   "cell_type": "code",
   "execution_count": null,
   "id": "f5d5e912",
   "metadata": {},
   "outputs": [],
   "source": []
  }
 ],
 "metadata": {
  "kernelspec": {
   "display_name": "Python 3 (ipykernel)",
   "language": "python",
   "name": "python3"
  },
  "language_info": {
   "codemirror_mode": {
    "name": "ipython",
    "version": 3
   },
   "file_extension": ".py",
   "mimetype": "text/x-python",
   "name": "python",
   "nbconvert_exporter": "python",
   "pygments_lexer": "ipython3",
   "version": "3.9.13"
  }
 },
 "nbformat": 4,
 "nbformat_minor": 5
}
